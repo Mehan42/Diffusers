{
  "cells": [
    {
      "cell_type": "markdown",
      "metadata": {
        "id": "tMC0MLV76LzF"
      },
      "source": [
        "# Quickstart notebook - Summarization\n",
        "\n",
        "In this notebook, we will look at how you can use Opik to track your LLM calls, chains and agents. We will introduce the concept of tracing and how to automate the evaluation of your LLM workflows.\n",
        "\n",
        "We will be using a technique called Chain of Density Summarization to summarize Arxiv papers. You can learn more about this technique in the [From Sparse to Dense: GPT-4 Summarization with Chain of Density Prompting](https://arxiv.org/abs/2309.04269) paper."
      ]
    },
    {
      "cell_type": "markdown",
      "metadata": {
        "id": "hDT2wHXL6LzK"
      },
      "source": [
        "## Getting started\n",
        "\n",
        "We will first install the required dependencies and configure both Opik and OpenAI."
      ]
    },
    {
      "cell_type": "code",
      "execution_count": 14,
      "metadata": {
        "id": "IbgIcpSk6LzK"
      },
      "outputs": [],
      "source": [
        "%pip install -U opik openai requests PyPDF2 --quiet"
      ]
    },
    {
      "cell_type": "markdown",
      "metadata": {
        "id": "UJAjm2VT6LzM"
      },
      "source": [
        "\n",
        "[Comet](https://www.comet.com/site?from=llm&utm_source=opik&utm_medium=colab&utm_content=langchain&utm_campaign=opik) provides a hosted version of the Opik platform, [simply create an account](https://www.comet.com/signup?from=llm&utm_source=opik&utm_medium=colab&utm_content=langchain&utm_campaign=opik) and grab your API Key.\n",
        "\n",
        "> You can also run the Opik platform locally, see the [installation guide](https://www.comet.com/docs/opik/self-host/overview/?from=llm&utm_source=opik&utm_medium=colab&utm_content=langchain&utm_campaign=opik) for more information."
      ]
    },
    {
      "cell_type": "code",
      "execution_count": 15,
      "metadata": {
        "colab": {
          "base_uri": "https://localhost:8080/"
        },
        "id": "0w-p_4zh6LzM",
        "outputId": "6565547d-edc7-4d30-dd81-4470ec58c7ae"
      },
      "outputs": [
        {
          "output_type": "stream",
          "name": "stderr",
          "text": [
            "OPIK: Existing Opik clients will not use updated values for \"url\", \"api_key\", \"workspace\".\n",
            "OPIK: Opik is already configured. You can check the settings by viewing the config file at /root/.opik.config\n"
          ]
        }
      ],
      "source": [
        "import opik\n",
        "\n",
        "# Configure Opik\n",
        "opik.configure()"
      ]
    },
    {
      "cell_type": "markdown",
      "metadata": {
        "id": "3exx5yBW6LzN"
      },
      "source": [
        "## Implementing Chain of Density Summarization\n",
        "\n",
        "The idea behind this approach is to first generate a sparse candidate summary and then iteratively refine it with missing information without making it longer. We will start by defining two prompts:\n",
        "\n",
        "1. Iteration summary prompt: This prompt is used to generate and refine a candidate summary.\n",
        "2. Final summary prompt: This prompt is used to generate the final summary from the sparse set of candidate summaries."
      ]
    },
    {
      "cell_type": "code",
      "execution_count": 16,
      "metadata": {
        "id": "2Te03kUB6LzN"
      },
      "outputs": [],
      "source": [
        "import opik\n",
        "\n",
        "ITERATION_SUMMARY_PROMPT = opik.Prompt(\n",
        "    name=\"Iteration Summary Prompt\",\n",
        "    prompt=\"\"\"\n",
        "Document: {{document}}\n",
        "Current summary: {{current_summary}}\n",
        "Instruction to focus on: {{instruction}}\n",
        "\n",
        "Generate a concise, entity-dense, and highly technical summary from the provided Document that specifically addresses the given Instruction.\n",
        "\n",
        "Guidelines:\n",
        "- Make every word count: If there is a current summary re-write it to improve flow, density and conciseness.\n",
        "- Remove uninformative phrases like \"the article discusses\".\n",
        "- The summary should become highly dense and concise yet self-contained, e.g. , easily understood without the Document.\n",
        "- Make sure that the summary specifically addresses the given Instruction\n",
        "\"\"\".rstrip().lstrip(),\n",
        ")\n",
        "\n",
        "FINAL_SUMMARY_PROMPT = opik.Prompt(\n",
        "    name=\"Final Summary Prompt\",\n",
        "    prompt=\"\"\"\n",
        "Given this summary: {{current_summary}}\n",
        "And this instruction to focus on: {{instruction}}\n",
        "Create an extremely dense, final summary that captures all key technical information in the most concise form possible, while specifically addressing the given instruction.\n",
        "\"\"\".rstrip().lstrip(),\n",
        ")"
      ]
    },
    {
      "cell_type": "markdown",
      "metadata": {
        "id": "--4pXmRu6LzO"
      },
      "source": [
        "We can now define the summarization chain by combining the two prompts. In order to track the LLM calls, we will use Opik's integration with OpenAI through the `track_openai` function and we will add the `@opik.track` decorator to each function so we can track the full chain and not just individual LLM calls:"
      ]
    },
    {
      "cell_type": "code",
      "execution_count": 17,
      "metadata": {
        "id": "JbZf9TqB6LzO"
      },
      "outputs": [],
      "source": [
        "from opik.integrations.openai import track_openai\n",
        "from openai import OpenAI\n",
        "import opik\n",
        "\n",
        "# Use a dedicated quickstart endpoint, replace with your own OpenAI API Key in your own code\n",
        "openai_client = track_openai(\n",
        "    OpenAI(\n",
        "        base_url=\"https://odbrly0rrk.execute-api.us-east-1.amazonaws.com/Prod/\",\n",
        "        api_key=\"Opik-Quickstart\",\n",
        "    )\n",
        ")\n",
        "\n",
        "\n",
        "@opik.track\n",
        "def summarize_current_summary(\n",
        "    document: str,\n",
        "    instruction: str,\n",
        "    current_summary: str,\n",
        "    model: str = \"gpt-4o-mini\",\n",
        "):\n",
        "    prompt = ITERATION_SUMMARY_PROMPT.format(\n",
        "        document=document, current_summary=current_summary, instruction=instruction\n",
        "    )\n",
        "\n",
        "    response = openai_client.chat.completions.create(\n",
        "        model=model, max_tokens=4096, messages=[{\"role\": \"user\", \"content\": prompt}]\n",
        "    )\n",
        "\n",
        "    return response.choices[0].message.content\n",
        "\n",
        "\n",
        "@opik.track\n",
        "def iterative_density_summarization(\n",
        "    document: str,\n",
        "    instruction: str,\n",
        "    density_iterations: int,\n",
        "    model: str = \"gpt-4o-mini\",\n",
        "):\n",
        "    summary = \"\"\n",
        "    for iteration in range(1, density_iterations + 1):\n",
        "        summary = summarize_current_summary(document, instruction, summary, model)\n",
        "    return summary\n",
        "\n",
        "\n",
        "@opik.track\n",
        "def final_summary(instruction: str, current_summary: str, model: str = \"gpt-4o-mini\"):\n",
        "    prompt = FINAL_SUMMARY_PROMPT.format(\n",
        "        current_summary=current_summary, instruction=instruction\n",
        "    )\n",
        "\n",
        "    return (\n",
        "        openai_client.chat.completions.create(\n",
        "            model=model, max_tokens=4096, messages=[{\"role\": \"user\", \"content\": prompt}]\n",
        "        )\n",
        "        .choices[0]\n",
        "        .message.content\n",
        "    )\n",
        "\n",
        "\n",
        "@opik.track(project_name=\"Chain of Density Summarization\")\n",
        "def chain_of_density_summarization(\n",
        "    document: str,\n",
        "    instruction: str,\n",
        "    model: str = \"gpt-4o-mini\",\n",
        "    density_iterations: int = 2,\n",
        "):\n",
        "    summary = iterative_density_summarization(\n",
        "        document, instruction, density_iterations, model\n",
        "    )\n",
        "    final_summary_text = final_summary(instruction, summary, model)\n",
        "\n",
        "    return final_summary_text"
      ]
    },
    {
      "cell_type": "markdown",
      "metadata": {
        "id": "OatW04he6LzP"
      },
      "source": [
        "Let's call the summarization chain with a sample document:"
      ]
    },
    {
      "cell_type": "code",
      "execution_count": 18,
      "metadata": {
        "colab": {
          "base_uri": "https://localhost:8080/"
        },
        "id": "GttZhP2O6LzP",
        "outputId": "9f96aebd-e217-4fd1-93a7-4a8b3e5ea754"
      },
      "outputs": [
        {
          "output_type": "stream",
          "name": "stderr",
          "text": [
            "OPIK: Started logging traces to the \"Chain of Density Summarization\" project at https://www.comet.com/opik/api/v1/session/redirect/projects/?trace_id=01973bff-4033-7578-b2d3-b2aa9510cd70&path=aHR0cHM6Ly93d3cuY29tZXQuY29tL29waWsvYXBpLw==.\n"
          ]
        },
        {
          "output_type": "stream",
          "name": "stdout",
          "text": [
            "AI enhances industries by improving disease diagnosis and personalized treatment\n",
            "in healthcare; enabling fraud detection and algorithmic trading in finance; and\n",
            "facilitating personalized learning and adaptive testing in education. However,\n",
            "challenges remain, including data privacy, algorithmic bias, and employment\n",
            "impacts. The future of AI holds significant potential alongside considerable\n",
            "ethical hurdles.\n"
          ]
        }
      ],
      "source": [
        "import textwrap\n",
        "\n",
        "document = \"\"\"\n",
        "Artificial intelligence (AI) is transforming industries, revolutionizing healthcare, finance, education, and even creative fields. AI systems\n",
        "today are capable of performing tasks that previously required human intelligence, such as language processing, visual perception, and\n",
        "decision-making. In healthcare, AI assists in diagnosing diseases, predicting patient outcomes, and even developing personalized treatment plans.\n",
        "In finance, it helps in fraud detection, algorithmic trading, and risk management. Education systems leverage AI for personalized learning, adaptive\n",
        "testing, and educational content generation. Despite these advancements, ethical concerns such as data privacy, bias, and the impact of AI on employment\n",
        "remain. The future of AI holds immense potential, but also significant challenges.\n",
        "\"\"\"\n",
        "\n",
        "instruction = \"Summarize the main contributions of AI to different industries, and highlight both its potential and associated challenges.\"\n",
        "\n",
        "summary = chain_of_density_summarization(document, instruction)\n",
        "\n",
        "print(\"\\n\".join(textwrap.wrap(summary, width=80)))"
      ]
    },
    {
      "cell_type": "markdown",
      "metadata": {
        "id": "F74Xu0Dx6LzQ"
      },
      "source": [
        "Thanks to the `@opik.track` decorator and Opik's integration with OpenAI, we can now track the entire chain and all the LLM calls in the Opik UI:\n",
        "\n",
        "![Trace UI](https://raw.githubusercontent.com/comet-ml/opik/main/apps/opik-documentation/documentation/static/img/cookbook/chain_density_trace_cookbook.png)"
      ]
    },
    {
      "cell_type": "markdown",
      "metadata": {
        "id": "KxETxntk6LzQ"
      },
      "source": [
        "## Automatting the evaluation process\n",
        "\n",
        "### Defining a dataset\n",
        "Now that we have a working chain, we can automate the evaluation process. We will start by defining a dataset of documents and instructions:"
      ]
    },
    {
      "cell_type": "code",
      "execution_count": 19,
      "metadata": {
        "id": "9E72ObVl6LzQ"
      },
      "outputs": [],
      "source": [
        "import opik\n",
        "\n",
        "dataset_items = [\n",
        "    {\n",
        "        \"pdf_url\": \"https://arxiv.org/pdf/2301.00234\",\n",
        "        \"title\": \"A Survey on In-context Learning\",\n",
        "        \"instruction\": \"Summarize the key findings on the impact of prompt engineering in in-context learning.\",\n",
        "    },\n",
        "    {\n",
        "        \"pdf_url\": \"https://arxiv.org/pdf/2301.03728\",\n",
        "        \"title\": \"Scaling Laws for Generative Mixed-Modal Language Models\",\n",
        "        \"instruction\": \"How do scaling laws apply to generative mixed-modal models according to the paper?\",\n",
        "    },\n",
        "    {\n",
        "        \"pdf_url\": \"https://arxiv.org/pdf/2308.10792\",\n",
        "        \"title\": \"Instruction Tuning for Large Language Models: A Survey\",\n",
        "        \"instruction\": \"What are the major challenges in instruction tuning for large language models identified in the paper?\",\n",
        "    },\n",
        "    {\n",
        "        \"pdf_url\": \"https://arxiv.org/pdf/2302.08575\",\n",
        "        \"title\": \"Foundation Models in Natural Language Processing: A Survey\",\n",
        "        \"instruction\": \"Explain the role of foundation models in the current natural language processing landscape.\",\n",
        "    },\n",
        "    {\n",
        "        \"pdf_url\": \"https://arxiv.org/pdf/2306.13398\",\n",
        "        \"title\": \"Large-scale Multi-Modal Pre-trained Models: A Comprehensive Survey\",\n",
        "        \"instruction\": \"What are the cutting edge techniques used in multi-modal pre-training models?\",\n",
        "    },\n",
        "    {\n",
        "        \"pdf_url\": \"https://arxiv.org/pdf/2103.07492\",\n",
        "        \"title\": \"Continual Learning in Neural Networks: An Empirical Evaluation\",\n",
        "        \"instruction\": \"What are the main challenges of continual learning for neural networks according to the paper?\",\n",
        "    },\n",
        "    {\n",
        "        \"pdf_url\": \"https://arxiv.org/pdf/2304.00685v2\",\n",
        "        \"title\": \"Vision-Language Models for Vision Tasks: A Survey\",\n",
        "        \"instruction\": \"What are the most widely used vision-language models?\",\n",
        "    },\n",
        "    {\n",
        "        \"pdf_url\": \"https://arxiv.org/pdf/2303.08774\",\n",
        "        \"title\": \"GPT-4 Technical Report\",\n",
        "        \"instruction\": \"What are the main differences between GPT-4 and GPT-3.5?\",\n",
        "    },\n",
        "    {\n",
        "        \"pdf_url\": \"https://arxiv.org/pdf/2406.04744\",\n",
        "        \"title\": \"CRAG -- Comprehensive RAG Benchmark\",\n",
        "        \"instruction\": \"What was the approach to experimenting with different data mixtures?\",\n",
        "    },\n",
        "]\n",
        "\n",
        "client = opik.Opik()\n",
        "DATASET_NAME = \"arXiv Papers\"\n",
        "dataset = client.get_or_create_dataset(name=DATASET_NAME)\n",
        "dataset.insert(dataset_items)"
      ]
    },
    {
      "cell_type": "markdown",
      "metadata": {
        "id": "lg-XOpf56LzQ"
      },
      "source": [
        "*Note:* Opik automatically deduplicates dataset items to make it easier to iterate on your dataset.\n",
        "\n",
        "### Defining the evaluation metrics\n",
        "\n",
        "Opik includes a [library of evaluation metrics](https://www.comet.com/docs/opik/evaluation/metrics/overview) that you can use to evaluate your chains. For this particular example, we will be using a custom metric that evaluates the relevance, conciseness and technical accuracy of each summary"
      ]
    },
    {
      "cell_type": "code",
      "execution_count": 20,
      "metadata": {
        "id": "N81ZdJTu6LzR"
      },
      "outputs": [],
      "source": [
        "from opik.evaluation.metrics import base_metric, score_result\n",
        "import json\n",
        "\n",
        "# We will define the response format so the output has the correct schema. You can also use structured outputs with Pydantic models for this.\n",
        "json_schema = {\n",
        "    \"type\": \"json_schema\",\n",
        "    \"json_schema\": {\n",
        "        \"name\": \"summary_evaluation_schema\",\n",
        "        \"schema\": {\n",
        "            \"type\": \"object\",\n",
        "            \"properties\": {\n",
        "                \"relevance\": {\n",
        "                    \"type\": \"object\",\n",
        "                    \"properties\": {\n",
        "                        \"score\": {\n",
        "                            \"type\": \"integer\",\n",
        "                            \"minimum\": 1,\n",
        "                            \"maximum\": 5,\n",
        "                            \"description\": \"Score between 1-5 for how well the summary addresses the instruction\",\n",
        "                        },\n",
        "                        \"explanation\": {\n",
        "                            \"type\": \"string\",\n",
        "                            \"description\": \"Brief explanation of the relevance score\",\n",
        "                        },\n",
        "                    },\n",
        "                    \"required\": [\"score\", \"explanation\"],\n",
        "                },\n",
        "                \"conciseness\": {\n",
        "                    \"type\": \"object\",\n",
        "                    \"properties\": {\n",
        "                        \"score\": {\n",
        "                            \"type\": \"integer\",\n",
        "                            \"minimum\": 1,\n",
        "                            \"maximum\": 5,\n",
        "                            \"description\": \"Score between 1-5 for how concise the summary is while retaining key information\",\n",
        "                        },\n",
        "                        \"explanation\": {\n",
        "                            \"type\": \"string\",\n",
        "                            \"description\": \"Brief explanation of the conciseness score\",\n",
        "                        },\n",
        "                    },\n",
        "                    \"required\": [\"score\", \"explanation\"],\n",
        "                },\n",
        "                \"technical_accuracy\": {\n",
        "                    \"type\": \"object\",\n",
        "                    \"properties\": {\n",
        "                        \"score\": {\n",
        "                            \"type\": \"integer\",\n",
        "                            \"minimum\": 1,\n",
        "                            \"maximum\": 5,\n",
        "                            \"description\": \"Score between 1-5 for how accurately the summary conveys technical details\",\n",
        "                        },\n",
        "                        \"explanation\": {\n",
        "                            \"type\": \"string\",\n",
        "                            \"description\": \"Brief explanation of the technical accuracy score\",\n",
        "                        },\n",
        "                    },\n",
        "                    \"required\": [\"score\", \"explanation\"],\n",
        "                },\n",
        "            },\n",
        "            \"required\": [\"relevance\", \"conciseness\", \"technical_accuracy\"],\n",
        "            \"additionalProperties\": False,\n",
        "        },\n",
        "    },\n",
        "}\n",
        "\n",
        "\n",
        "# Custom Metric: One template/prompt to extract 4 scores/results\n",
        "class EvaluateSummary(base_metric.BaseMetric):\n",
        "    # Constructor\n",
        "    def __init__(self, name: str):\n",
        "        self.name = name\n",
        "\n",
        "    def score(\n",
        "        self, summary: str, instruction: str, model: str = \"gpt-4o-mini\", **kwargs\n",
        "    ):\n",
        "        prompt = f\"\"\"\n",
        "            Summary: {summary}\n",
        "            Instruction: {instruction}\n",
        "\n",
        "            Evaluate the summary based on the following criteria:\n",
        "            1. Relevance (1-5): How well does the summary address the given instruction?\n",
        "            2. Conciseness (1-5): How concise is the summary while retaining key information?\n",
        "            3. Technical Accuracy (1-5): How accurately does the summary convey technical details?\n",
        "\n",
        "            Your response MUST be in the following JSON format:\n",
        "            {{\n",
        "                \"relevance\": {{\n",
        "                    \"score\": <int>,\n",
        "                    \"explanation\": \"<string>\"\n",
        "                }},\n",
        "            \"conciseness\": {{\n",
        "                \"score\": <int>,\n",
        "                \"explanation\": \"<string>\"\n",
        "                }},\n",
        "            \"technical_accuracy\": {{\n",
        "                \"score\": <int>,\n",
        "                \"explanation\": \"<string>\"\n",
        "                }}\n",
        "            }}\n",
        "\n",
        "            Ensure that the scores are integers between 1 and 5, and that the explanations are concise.\n",
        "        \"\"\"\n",
        "\n",
        "        response = openai_client.chat.completions.create(\n",
        "            model=model,\n",
        "            max_tokens=1000,\n",
        "            messages=[{\"role\": \"user\", \"content\": prompt}],\n",
        "            response_format=json_schema,\n",
        "        )\n",
        "\n",
        "        eval_dict = json.loads(response.choices[0].message.content)\n",
        "\n",
        "        return [\n",
        "            score_result.ScoreResult(\n",
        "                name=\"summary_relevance\",\n",
        "                value=eval_dict[\"relevance\"][\"score\"],\n",
        "                reason=eval_dict[\"relevance\"][\"explanation\"],\n",
        "            ),\n",
        "            score_result.ScoreResult(\n",
        "                name=\"summary_conciseness\",\n",
        "                value=eval_dict[\"conciseness\"][\"score\"],\n",
        "                reason=eval_dict[\"conciseness\"][\"explanation\"],\n",
        "            ),\n",
        "            score_result.ScoreResult(\n",
        "                name=\"summary_technical_accuracy\",\n",
        "                value=eval_dict[\"technical_accuracy\"][\"score\"],\n",
        "                reason=eval_dict[\"technical_accuracy\"][\"explanation\"],\n",
        "            ),\n",
        "            score_result.ScoreResult(\n",
        "                name=\"summary_average_score\",\n",
        "                value=round(sum(eval_dict[k][\"score\"] for k in eval_dict) / 3, 2),\n",
        "                reason=\"The average of the 3 summary evaluation metrics\",\n",
        "            ),\n",
        "        ]"
      ]
    },
    {
      "cell_type": "markdown",
      "metadata": {
        "id": "HoJjVwx-6LzR"
      },
      "source": [
        "### Create the task we want to evaluate\n",
        "\n",
        "We can now create the task we want to evaluate. In this case, we will have the dataset item as an input and return a dictionary containing the summary and the instruction so that we can use this in the evaluation metrics:"
      ]
    },
    {
      "cell_type": "code",
      "execution_count": 21,
      "metadata": {
        "id": "YCmZgTzZ6LzS"
      },
      "outputs": [],
      "source": [
        "import requests\n",
        "import io\n",
        "from PyPDF2 import PdfReader\n",
        "from typing import Dict\n",
        "\n",
        "\n",
        "# Load and extract text from PDFs\n",
        "@opik.track\n",
        "def load_pdf(pdf_url: str) -> str:\n",
        "    # Download the PDF\n",
        "    response = requests.get(pdf_url)\n",
        "    pdf_file = io.BytesIO(response.content)\n",
        "\n",
        "    # Read the PDF\n",
        "    pdf_reader = PdfReader(pdf_file)\n",
        "\n",
        "    # Extract text from all pages\n",
        "    text = \"\"\n",
        "    for page in pdf_reader.pages:\n",
        "        text += page.extract_text()\n",
        "\n",
        "    # Truncate the text to 100000 characters as this is the maximum supported by OpenAI\n",
        "    text = text[:100000]\n",
        "    return text\n",
        "\n",
        "\n",
        "def evaluation_task(x: Dict):\n",
        "    text = load_pdf(x[\"pdf_url\"])\n",
        "    instruction = x[\"instruction\"]\n",
        "    model = MODEL\n",
        "    density_iterations = DENSITY_ITERATIONS\n",
        "\n",
        "    result = chain_of_density_summarization(\n",
        "        document=text,\n",
        "        instruction=instruction,\n",
        "        model=model,\n",
        "        density_iterations=density_iterations,\n",
        "    )\n",
        "\n",
        "    return {\"summary\": result}"
      ]
    },
    {
      "cell_type": "markdown",
      "metadata": {
        "id": "3IHku3ha6LzS"
      },
      "source": [
        "### Run the automated evaluation"
      ]
    },
    {
      "cell_type": "markdown",
      "metadata": {
        "id": "GPNKrZF56LzS"
      },
      "source": [
        "We can now use the `evaluate` method to evaluate the summaries in our dataset:"
      ]
    },
    {
      "cell_type": "code",
      "execution_count": 22,
      "metadata": {
        "colab": {
          "base_uri": "https://localhost:8080/",
          "height": 294,
          "referenced_widgets": [
            "9190936711b3419894cdf90cabfaf517",
            "5af5998cdbc04623a431e5c7b541a63d",
            "88656cb633d0433fb2033ab5db9284f2",
            "f2a9468d17f34e549e387f96ae65b46c",
            "c1ad4ccc28b2460d868fd82f809efaaa",
            "fb5326c9563644059159f363f05bc4ef",
            "922a3b0ab3c74e56a960231491003b0b",
            "170bfa28899f4787af48080ed9735fae",
            "132f2db7aafb4b348fae6b0edd99b323",
            "b1236dd1cefc453ca292c2345ec9d801",
            "2c5d3a40ccf14233ac558f9f08f48687"
          ]
        },
        "id": "821aUfo86LzS",
        "outputId": "65345b04-7e20-4099-e7e7-576689f54025"
      },
      "outputs": [
        {
          "output_type": "display_data",
          "data": {
            "text/plain": [
              "Evaluation:   0%|          | 0/9 [00:00<?, ?it/s]"
            ],
            "application/vnd.jupyter.widget-view+json": {
              "version_major": 2,
              "version_minor": 0,
              "model_id": "9190936711b3419894cdf90cabfaf517"
            }
          },
          "metadata": {}
        },
        {
          "output_type": "stream",
          "name": "stderr",
          "text": [
            "OPIK: Started logging traces to the \"Chain of Density Summarization - Experiments\" project at https://www.comet.com/opik/api/v1/session/redirect/projects/?trace_id=01973bff-b524-7338-8073-4e03ecad039b&path=aHR0cHM6Ly93d3cuY29tZXQuY29tL29waWsvYXBpLw==.\n"
          ]
        },
        {
          "output_type": "display_data",
          "data": {
            "text/plain": [
              "╭─ arXiv Papers (9 samples) ───────────────╮\n",
              "│                                          │\n",
              "│ \u001b[1mTotal time:       \u001b[0m 00:00:58              │\n",
              "│ \u001b[1mNumber of samples:\u001b[0m 9                     │\n",
              "│                                          │\n",
              "│ \u001b[1;32msummary_relevance: 4.5556 (avg)\u001b[0m          │\n",
              "│ \u001b[1;32msummary_conciseness: 3.8889 (avg)\u001b[0m        │\n",
              "│ \u001b[1;32msummary_technical_accuracy: 5.0000 (avg)\u001b[0m │\n",
              "│ \u001b[1;32msummary_average_score: 4.4844 (avg)\u001b[0m      │\n",
              "│                                          │\n",
              "╰──────────────────────────────────────────╯\n"
            ],
            "text/html": [
              "<pre style=\"white-space:pre;overflow-x:auto;line-height:normal;font-family:Menlo,'DejaVu Sans Mono',consolas,'Courier New',monospace\">╭─ arXiv Papers (9 samples) ───────────────╮\n",
              "│                                          │\n",
              "│ <span style=\"font-weight: bold\">Total time:       </span> 00:00:58              │\n",
              "│ <span style=\"font-weight: bold\">Number of samples:</span> 9                     │\n",
              "│                                          │\n",
              "│ <span style=\"color: #008000; text-decoration-color: #008000; font-weight: bold\">summary_relevance: 4.5556 (avg)</span>          │\n",
              "│ <span style=\"color: #008000; text-decoration-color: #008000; font-weight: bold\">summary_conciseness: 3.8889 (avg)</span>        │\n",
              "│ <span style=\"color: #008000; text-decoration-color: #008000; font-weight: bold\">summary_technical_accuracy: 5.0000 (avg)</span> │\n",
              "│ <span style=\"color: #008000; text-decoration-color: #008000; font-weight: bold\">summary_average_score: 4.4844 (avg)</span>      │\n",
              "│                                          │\n",
              "╰──────────────────────────────────────────╯\n",
              "</pre>\n"
            ]
          },
          "metadata": {}
        },
        {
          "output_type": "display_data",
          "data": {
            "text/plain": [
              "Uploading results to Opik \u001b[33m...\u001b[0m \n"
            ],
            "text/html": [
              "<pre style=\"white-space:pre;overflow-x:auto;line-height:normal;font-family:Menlo,'DejaVu Sans Mono',consolas,'Courier New',monospace\">Uploading results to Opik <span style=\"color: #808000; text-decoration-color: #808000\">...</span> \n",
              "</pre>\n"
            ]
          },
          "metadata": {}
        },
        {
          "output_type": "display_data",
          "data": {
            "text/plain": [
              "View the results \u001b]8;id=712108;https://www.comet.com/opik/api/v1/session/redirect/experiments/?experiment_id=01973bff-b3ec-7c19-a3ed-5fe2d67ac68e&dataset_id=01973bfa-95c5-727d-98a1-469000a54c63&path=aHR0cHM6Ly93d3cuY29tZXQuY29tL29waWsvYXBpLw==\u001b\\in your Opik dashboard\u001b]8;;\u001b\\.\n"
            ],
            "text/html": [
              "<pre style=\"white-space:pre;overflow-x:auto;line-height:normal;font-family:Menlo,'DejaVu Sans Mono',consolas,'Courier New',monospace\">View the results <a href=\"https://www.comet.com/opik/api/v1/session/redirect/experiments/?experiment_id=01973bff-b3ec-7c19-a3ed-5fe2d67ac68e&dataset_id=01973bfa-95c5-727d-98a1-469000a54c63&path=aHR0cHM6Ly93d3cuY29tZXQuY29tL29waWsvYXBpLw==\" target=\"_blank\">in your Opik dashboard</a>.\n",
              "</pre>\n"
            ]
          },
          "metadata": {}
        }
      ],
      "source": [
        "from opik.evaluation import evaluate\n",
        "\n",
        "MODEL = \"gpt-4o-mini\"\n",
        "DENSITY_ITERATIONS = 2\n",
        "\n",
        "experiment_config = {\n",
        "    \"model\": MODEL,\n",
        "    \"density_iterations\": DENSITY_ITERATIONS,\n",
        "}\n",
        "\n",
        "res = evaluate(\n",
        "    dataset=dataset,\n",
        "    experiment_config=experiment_config,\n",
        "    task=evaluation_task,\n",
        "    scoring_metrics=[EvaluateSummary(name=\"summary-metrics\")],\n",
        "    prompts=[ITERATION_SUMMARY_PROMPT, FINAL_SUMMARY_PROMPT],\n",
        "    project_name=\"Chain of Density Summarization - Experiments\",\n",
        ")"
      ]
    },
    {
      "cell_type": "markdown",
      "metadata": {
        "id": "HBU2MpJ96LzT"
      },
      "source": [
        "The experiment results are now available in the Opik UI:\n",
        "\n",
        "![Trace UI](https://raw.githubusercontent.com/comet-ml/opik/main/apps/opik-documentation/documentation/static/img/cookbook/chain_density_experiment_cookbook.png)\n"
      ]
    },
    {
      "cell_type": "markdown",
      "metadata": {
        "id": "0kxUDqNv6LzT"
      },
      "source": [
        "## Comparing prompt templates\n",
        "\n",
        "We will update the iteration summary prompt and evaluate its impact on the evaluation metrics."
      ]
    },
    {
      "cell_type": "code",
      "execution_count": 23,
      "metadata": {
        "id": "yBKT_M7C6LzT"
      },
      "outputs": [],
      "source": [
        "import opik\n",
        "\n",
        "ITERATION_SUMMARY_PROMPT = opik.Prompt(\n",
        "    name=\"Iteration Summary Prompt\",\n",
        "    prompt=\"\"\"Document: {{document}}\n",
        "Current summary: {{current_summary}}\n",
        "Instruction to focus on: {{instruction}}\n",
        "\n",
        "Generate a concise, entity-dense, and highly technical summary from the provided Document that specifically addresses the given Instruction.\n",
        "\n",
        "Guidelines:\n",
        "1. **Maximize Clarity and Density**: Revise the current summary to enhance flow, density, and conciseness.\n",
        "2. **Eliminate Redundant Language**: Avoid uninformative phrases such as \"the article discusses.\"\n",
        "3. **Ensure Self-Containment**: The summary should be dense and concise, easily understandable without referring back to the document.\n",
        "4. **Align with Instruction**: Make sure the summary specifically addresses the given instruction.\n",
        "\n",
        "\"\"\".rstrip().lstrip(),\n",
        ")"
      ]
    },
    {
      "cell_type": "code",
      "execution_count": 24,
      "metadata": {
        "colab": {
          "base_uri": "https://localhost:8080/",
          "height": 257,
          "referenced_widgets": [
            "7d4b0996f4064132b0f59641442cf8f8",
            "b2c72a8c735643178652e3661716e66f",
            "500afe4bebf2474f9b27d2752a041ab0",
            "1995a2c997bb4f98bd5246700d321da3",
            "82ccb10cba0b4b1bb7c2445d551d47d2",
            "7659cb9edbcf417b823dc24080618899",
            "775f4c0ef3b54111b61d12b751acf3fa",
            "ae834b99744d4a96b4d3a324d23a1a20",
            "aa9cec309be94dd98ea252947fd269b9",
            "300d295fb7244aef954ee519f1ba0caa",
            "8a9e1fa734a04c9a8012eeeca6f16eda"
          ]
        },
        "id": "JN80z-iN6LzT",
        "outputId": "46099569-541d-4f97-ef8b-25088afbe205"
      },
      "outputs": [
        {
          "output_type": "display_data",
          "data": {
            "text/plain": [
              "Evaluation:   0%|          | 0/9 [00:00<?, ?it/s]"
            ],
            "application/vnd.jupyter.widget-view+json": {
              "version_major": 2,
              "version_minor": 0,
              "model_id": "7d4b0996f4064132b0f59641442cf8f8"
            }
          },
          "metadata": {}
        },
        {
          "output_type": "display_data",
          "data": {
            "text/plain": [
              "╭─ arXiv Papers (9 samples) ───────────────╮\n",
              "│                                          │\n",
              "│ \u001b[1mTotal time:       \u001b[0m 00:00:54              │\n",
              "│ \u001b[1mNumber of samples:\u001b[0m 9                     │\n",
              "│                                          │\n",
              "│ \u001b[1;32msummary_relevance: 4.5556 (avg)\u001b[0m          │\n",
              "│ \u001b[1;32msummary_conciseness: 4.0000 (avg)\u001b[0m        │\n",
              "│ \u001b[1;32msummary_technical_accuracy: 4.8889 (avg)\u001b[0m │\n",
              "│ \u001b[1;32msummary_average_score: 4.4844 (avg)\u001b[0m      │\n",
              "│                                          │\n",
              "╰──────────────────────────────────────────╯\n"
            ],
            "text/html": [
              "<pre style=\"white-space:pre;overflow-x:auto;line-height:normal;font-family:Menlo,'DejaVu Sans Mono',consolas,'Courier New',monospace\">╭─ arXiv Papers (9 samples) ───────────────╮\n",
              "│                                          │\n",
              "│ <span style=\"font-weight: bold\">Total time:       </span> 00:00:54              │\n",
              "│ <span style=\"font-weight: bold\">Number of samples:</span> 9                     │\n",
              "│                                          │\n",
              "│ <span style=\"color: #008000; text-decoration-color: #008000; font-weight: bold\">summary_relevance: 4.5556 (avg)</span>          │\n",
              "│ <span style=\"color: #008000; text-decoration-color: #008000; font-weight: bold\">summary_conciseness: 4.0000 (avg)</span>        │\n",
              "│ <span style=\"color: #008000; text-decoration-color: #008000; font-weight: bold\">summary_technical_accuracy: 4.8889 (avg)</span> │\n",
              "│ <span style=\"color: #008000; text-decoration-color: #008000; font-weight: bold\">summary_average_score: 4.4844 (avg)</span>      │\n",
              "│                                          │\n",
              "╰──────────────────────────────────────────╯\n",
              "</pre>\n"
            ]
          },
          "metadata": {}
        },
        {
          "output_type": "display_data",
          "data": {
            "text/plain": [
              "Uploading results to Opik \u001b[33m...\u001b[0m \n"
            ],
            "text/html": [
              "<pre style=\"white-space:pre;overflow-x:auto;line-height:normal;font-family:Menlo,'DejaVu Sans Mono',consolas,'Courier New',monospace\">Uploading results to Opik <span style=\"color: #808000; text-decoration-color: #808000\">...</span> \n",
              "</pre>\n"
            ]
          },
          "metadata": {}
        },
        {
          "output_type": "display_data",
          "data": {
            "text/plain": [
              "View the results \u001b]8;id=826483;https://www.comet.com/opik/api/v1/session/redirect/experiments/?experiment_id=01973c00-c609-7d9a-9955-78bf329eaa53&dataset_id=01973bfa-95c5-727d-98a1-469000a54c63&path=aHR0cHM6Ly93d3cuY29tZXQuY29tL29waWsvYXBpLw==\u001b\\in your Opik dashboard\u001b]8;;\u001b\\.\n"
            ],
            "text/html": [
              "<pre style=\"white-space:pre;overflow-x:auto;line-height:normal;font-family:Menlo,'DejaVu Sans Mono',consolas,'Courier New',monospace\">View the results <a href=\"https://www.comet.com/opik/api/v1/session/redirect/experiments/?experiment_id=01973c00-c609-7d9a-9955-78bf329eaa53&dataset_id=01973bfa-95c5-727d-98a1-469000a54c63&path=aHR0cHM6Ly93d3cuY29tZXQuY29tL29waWsvYXBpLw==\" target=\"_blank\">in your Opik dashboard</a>.\n",
              "</pre>\n"
            ]
          },
          "metadata": {}
        }
      ],
      "source": [
        "from opik.evaluation import evaluate\n",
        "\n",
        "MODEL = \"gpt-4o-mini\"\n",
        "DENSITY_ITERATIONS = 2\n",
        "\n",
        "experiment_config = {\n",
        "    \"model\": MODEL,\n",
        "    \"density_iterations\": DENSITY_ITERATIONS,\n",
        "}\n",
        "\n",
        "res = evaluate(\n",
        "    dataset=dataset,\n",
        "    experiment_config=experiment_config,\n",
        "    task=evaluation_task,\n",
        "    scoring_metrics=[EvaluateSummary(name=\"summary-metrics\")],\n",
        "    prompts=[ITERATION_SUMMARY_PROMPT, FINAL_SUMMARY_PROMPT],\n",
        "    project_name=\"Chain of Density Summarization - Experiments\",\n",
        ")"
      ]
    },
    {
      "cell_type": "markdown",
      "metadata": {
        "id": "E2Ge7uR66LzT"
      },
      "source": [
        "You can now compare the results between the two experiments in the Opik UI:\n",
        "\n",
        "![Trace UI](https://raw.githubusercontent.com/comet-ml/opik/main/apps/opik-documentation/documentation/static/img/cookbook/chain_density_trace_comparison_cookbook.png)"
      ]
    }
  ],
  "metadata": {
    "kernelspec": {
      "display_name": "Python 3 (ipykernel)",
      "language": "python",
      "name": "python3"
    },
    "language_info": {
      "codemirror_mode": {
        "name": "ipython",
        "version": 3
      },
      "file_extension": ".py",
      "mimetype": "text/x-python",
      "name": "python",
      "nbconvert_exporter": "python",
      "pygments_lexer": "ipython3",
      "version": "3.12.4"
    },
    "colab": {
      "provenance": []
    },
    "widgets": {
      "application/vnd.jupyter.widget-state+json": {
        "9190936711b3419894cdf90cabfaf517": {
          "model_module": "@jupyter-widgets/controls",
          "model_name": "HBoxModel",
          "model_module_version": "1.5.0",
          "state": {
            "_dom_classes": [],
            "_model_module": "@jupyter-widgets/controls",
            "_model_module_version": "1.5.0",
            "_model_name": "HBoxModel",
            "_view_count": null,
            "_view_module": "@jupyter-widgets/controls",
            "_view_module_version": "1.5.0",
            "_view_name": "HBoxView",
            "box_style": "",
            "children": [
              "IPY_MODEL_5af5998cdbc04623a431e5c7b541a63d",
              "IPY_MODEL_88656cb633d0433fb2033ab5db9284f2",
              "IPY_MODEL_f2a9468d17f34e549e387f96ae65b46c"
            ],
            "layout": "IPY_MODEL_c1ad4ccc28b2460d868fd82f809efaaa"
          }
        },
        "5af5998cdbc04623a431e5c7b541a63d": {
          "model_module": "@jupyter-widgets/controls",
          "model_name": "HTMLModel",
          "model_module_version": "1.5.0",
          "state": {
            "_dom_classes": [],
            "_model_module": "@jupyter-widgets/controls",
            "_model_module_version": "1.5.0",
            "_model_name": "HTMLModel",
            "_view_count": null,
            "_view_module": "@jupyter-widgets/controls",
            "_view_module_version": "1.5.0",
            "_view_name": "HTMLView",
            "description": "",
            "description_tooltip": null,
            "layout": "IPY_MODEL_fb5326c9563644059159f363f05bc4ef",
            "placeholder": "​",
            "style": "IPY_MODEL_922a3b0ab3c74e56a960231491003b0b",
            "value": "Evaluation: 100%"
          }
        },
        "88656cb633d0433fb2033ab5db9284f2": {
          "model_module": "@jupyter-widgets/controls",
          "model_name": "FloatProgressModel",
          "model_module_version": "1.5.0",
          "state": {
            "_dom_classes": [],
            "_model_module": "@jupyter-widgets/controls",
            "_model_module_version": "1.5.0",
            "_model_name": "FloatProgressModel",
            "_view_count": null,
            "_view_module": "@jupyter-widgets/controls",
            "_view_module_version": "1.5.0",
            "_view_name": "ProgressView",
            "bar_style": "success",
            "description": "",
            "description_tooltip": null,
            "layout": "IPY_MODEL_170bfa28899f4787af48080ed9735fae",
            "max": 9,
            "min": 0,
            "orientation": "horizontal",
            "style": "IPY_MODEL_132f2db7aafb4b348fae6b0edd99b323",
            "value": 9
          }
        },
        "f2a9468d17f34e549e387f96ae65b46c": {
          "model_module": "@jupyter-widgets/controls",
          "model_name": "HTMLModel",
          "model_module_version": "1.5.0",
          "state": {
            "_dom_classes": [],
            "_model_module": "@jupyter-widgets/controls",
            "_model_module_version": "1.5.0",
            "_model_name": "HTMLModel",
            "_view_count": null,
            "_view_module": "@jupyter-widgets/controls",
            "_view_module_version": "1.5.0",
            "_view_name": "HTMLView",
            "description": "",
            "description_tooltip": null,
            "layout": "IPY_MODEL_b1236dd1cefc453ca292c2345ec9d801",
            "placeholder": "​",
            "style": "IPY_MODEL_2c5d3a40ccf14233ac558f9f08f48687",
            "value": " 9/9 [00:57&lt;00:00,  7.16s/it]"
          }
        },
        "c1ad4ccc28b2460d868fd82f809efaaa": {
          "model_module": "@jupyter-widgets/base",
          "model_name": "LayoutModel",
          "model_module_version": "1.2.0",
          "state": {
            "_model_module": "@jupyter-widgets/base",
            "_model_module_version": "1.2.0",
            "_model_name": "LayoutModel",
            "_view_count": null,
            "_view_module": "@jupyter-widgets/base",
            "_view_module_version": "1.2.0",
            "_view_name": "LayoutView",
            "align_content": null,
            "align_items": null,
            "align_self": null,
            "border": null,
            "bottom": null,
            "display": null,
            "flex": null,
            "flex_flow": null,
            "grid_area": null,
            "grid_auto_columns": null,
            "grid_auto_flow": null,
            "grid_auto_rows": null,
            "grid_column": null,
            "grid_gap": null,
            "grid_row": null,
            "grid_template_areas": null,
            "grid_template_columns": null,
            "grid_template_rows": null,
            "height": null,
            "justify_content": null,
            "justify_items": null,
            "left": null,
            "margin": null,
            "max_height": null,
            "max_width": null,
            "min_height": null,
            "min_width": null,
            "object_fit": null,
            "object_position": null,
            "order": null,
            "overflow": null,
            "overflow_x": null,
            "overflow_y": null,
            "padding": null,
            "right": null,
            "top": null,
            "visibility": null,
            "width": null
          }
        },
        "fb5326c9563644059159f363f05bc4ef": {
          "model_module": "@jupyter-widgets/base",
          "model_name": "LayoutModel",
          "model_module_version": "1.2.0",
          "state": {
            "_model_module": "@jupyter-widgets/base",
            "_model_module_version": "1.2.0",
            "_model_name": "LayoutModel",
            "_view_count": null,
            "_view_module": "@jupyter-widgets/base",
            "_view_module_version": "1.2.0",
            "_view_name": "LayoutView",
            "align_content": null,
            "align_items": null,
            "align_self": null,
            "border": null,
            "bottom": null,
            "display": null,
            "flex": null,
            "flex_flow": null,
            "grid_area": null,
            "grid_auto_columns": null,
            "grid_auto_flow": null,
            "grid_auto_rows": null,
            "grid_column": null,
            "grid_gap": null,
            "grid_row": null,
            "grid_template_areas": null,
            "grid_template_columns": null,
            "grid_template_rows": null,
            "height": null,
            "justify_content": null,
            "justify_items": null,
            "left": null,
            "margin": null,
            "max_height": null,
            "max_width": null,
            "min_height": null,
            "min_width": null,
            "object_fit": null,
            "object_position": null,
            "order": null,
            "overflow": null,
            "overflow_x": null,
            "overflow_y": null,
            "padding": null,
            "right": null,
            "top": null,
            "visibility": null,
            "width": null
          }
        },
        "922a3b0ab3c74e56a960231491003b0b": {
          "model_module": "@jupyter-widgets/controls",
          "model_name": "DescriptionStyleModel",
          "model_module_version": "1.5.0",
          "state": {
            "_model_module": "@jupyter-widgets/controls",
            "_model_module_version": "1.5.0",
            "_model_name": "DescriptionStyleModel",
            "_view_count": null,
            "_view_module": "@jupyter-widgets/base",
            "_view_module_version": "1.2.0",
            "_view_name": "StyleView",
            "description_width": ""
          }
        },
        "170bfa28899f4787af48080ed9735fae": {
          "model_module": "@jupyter-widgets/base",
          "model_name": "LayoutModel",
          "model_module_version": "1.2.0",
          "state": {
            "_model_module": "@jupyter-widgets/base",
            "_model_module_version": "1.2.0",
            "_model_name": "LayoutModel",
            "_view_count": null,
            "_view_module": "@jupyter-widgets/base",
            "_view_module_version": "1.2.0",
            "_view_name": "LayoutView",
            "align_content": null,
            "align_items": null,
            "align_self": null,
            "border": null,
            "bottom": null,
            "display": null,
            "flex": null,
            "flex_flow": null,
            "grid_area": null,
            "grid_auto_columns": null,
            "grid_auto_flow": null,
            "grid_auto_rows": null,
            "grid_column": null,
            "grid_gap": null,
            "grid_row": null,
            "grid_template_areas": null,
            "grid_template_columns": null,
            "grid_template_rows": null,
            "height": null,
            "justify_content": null,
            "justify_items": null,
            "left": null,
            "margin": null,
            "max_height": null,
            "max_width": null,
            "min_height": null,
            "min_width": null,
            "object_fit": null,
            "object_position": null,
            "order": null,
            "overflow": null,
            "overflow_x": null,
            "overflow_y": null,
            "padding": null,
            "right": null,
            "top": null,
            "visibility": null,
            "width": null
          }
        },
        "132f2db7aafb4b348fae6b0edd99b323": {
          "model_module": "@jupyter-widgets/controls",
          "model_name": "ProgressStyleModel",
          "model_module_version": "1.5.0",
          "state": {
            "_model_module": "@jupyter-widgets/controls",
            "_model_module_version": "1.5.0",
            "_model_name": "ProgressStyleModel",
            "_view_count": null,
            "_view_module": "@jupyter-widgets/base",
            "_view_module_version": "1.2.0",
            "_view_name": "StyleView",
            "bar_color": null,
            "description_width": ""
          }
        },
        "b1236dd1cefc453ca292c2345ec9d801": {
          "model_module": "@jupyter-widgets/base",
          "model_name": "LayoutModel",
          "model_module_version": "1.2.0",
          "state": {
            "_model_module": "@jupyter-widgets/base",
            "_model_module_version": "1.2.0",
            "_model_name": "LayoutModel",
            "_view_count": null,
            "_view_module": "@jupyter-widgets/base",
            "_view_module_version": "1.2.0",
            "_view_name": "LayoutView",
            "align_content": null,
            "align_items": null,
            "align_self": null,
            "border": null,
            "bottom": null,
            "display": null,
            "flex": null,
            "flex_flow": null,
            "grid_area": null,
            "grid_auto_columns": null,
            "grid_auto_flow": null,
            "grid_auto_rows": null,
            "grid_column": null,
            "grid_gap": null,
            "grid_row": null,
            "grid_template_areas": null,
            "grid_template_columns": null,
            "grid_template_rows": null,
            "height": null,
            "justify_content": null,
            "justify_items": null,
            "left": null,
            "margin": null,
            "max_height": null,
            "max_width": null,
            "min_height": null,
            "min_width": null,
            "object_fit": null,
            "object_position": null,
            "order": null,
            "overflow": null,
            "overflow_x": null,
            "overflow_y": null,
            "padding": null,
            "right": null,
            "top": null,
            "visibility": null,
            "width": null
          }
        },
        "2c5d3a40ccf14233ac558f9f08f48687": {
          "model_module": "@jupyter-widgets/controls",
          "model_name": "DescriptionStyleModel",
          "model_module_version": "1.5.0",
          "state": {
            "_model_module": "@jupyter-widgets/controls",
            "_model_module_version": "1.5.0",
            "_model_name": "DescriptionStyleModel",
            "_view_count": null,
            "_view_module": "@jupyter-widgets/base",
            "_view_module_version": "1.2.0",
            "_view_name": "StyleView",
            "description_width": ""
          }
        },
        "7d4b0996f4064132b0f59641442cf8f8": {
          "model_module": "@jupyter-widgets/controls",
          "model_name": "HBoxModel",
          "model_module_version": "1.5.0",
          "state": {
            "_dom_classes": [],
            "_model_module": "@jupyter-widgets/controls",
            "_model_module_version": "1.5.0",
            "_model_name": "HBoxModel",
            "_view_count": null,
            "_view_module": "@jupyter-widgets/controls",
            "_view_module_version": "1.5.0",
            "_view_name": "HBoxView",
            "box_style": "",
            "children": [
              "IPY_MODEL_b2c72a8c735643178652e3661716e66f",
              "IPY_MODEL_500afe4bebf2474f9b27d2752a041ab0",
              "IPY_MODEL_1995a2c997bb4f98bd5246700d321da3"
            ],
            "layout": "IPY_MODEL_82ccb10cba0b4b1bb7c2445d551d47d2"
          }
        },
        "b2c72a8c735643178652e3661716e66f": {
          "model_module": "@jupyter-widgets/controls",
          "model_name": "HTMLModel",
          "model_module_version": "1.5.0",
          "state": {
            "_dom_classes": [],
            "_model_module": "@jupyter-widgets/controls",
            "_model_module_version": "1.5.0",
            "_model_name": "HTMLModel",
            "_view_count": null,
            "_view_module": "@jupyter-widgets/controls",
            "_view_module_version": "1.5.0",
            "_view_name": "HTMLView",
            "description": "",
            "description_tooltip": null,
            "layout": "IPY_MODEL_7659cb9edbcf417b823dc24080618899",
            "placeholder": "​",
            "style": "IPY_MODEL_775f4c0ef3b54111b61d12b751acf3fa",
            "value": "Evaluation: 100%"
          }
        },
        "500afe4bebf2474f9b27d2752a041ab0": {
          "model_module": "@jupyter-widgets/controls",
          "model_name": "FloatProgressModel",
          "model_module_version": "1.5.0",
          "state": {
            "_dom_classes": [],
            "_model_module": "@jupyter-widgets/controls",
            "_model_module_version": "1.5.0",
            "_model_name": "FloatProgressModel",
            "_view_count": null,
            "_view_module": "@jupyter-widgets/controls",
            "_view_module_version": "1.5.0",
            "_view_name": "ProgressView",
            "bar_style": "success",
            "description": "",
            "description_tooltip": null,
            "layout": "IPY_MODEL_ae834b99744d4a96b4d3a324d23a1a20",
            "max": 9,
            "min": 0,
            "orientation": "horizontal",
            "style": "IPY_MODEL_aa9cec309be94dd98ea252947fd269b9",
            "value": 9
          }
        },
        "1995a2c997bb4f98bd5246700d321da3": {
          "model_module": "@jupyter-widgets/controls",
          "model_name": "HTMLModel",
          "model_module_version": "1.5.0",
          "state": {
            "_dom_classes": [],
            "_model_module": "@jupyter-widgets/controls",
            "_model_module_version": "1.5.0",
            "_model_name": "HTMLModel",
            "_view_count": null,
            "_view_module": "@jupyter-widgets/controls",
            "_view_module_version": "1.5.0",
            "_view_name": "HTMLView",
            "description": "",
            "description_tooltip": null,
            "layout": "IPY_MODEL_300d295fb7244aef954ee519f1ba0caa",
            "placeholder": "​",
            "style": "IPY_MODEL_8a9e1fa734a04c9a8012eeeca6f16eda",
            "value": " 9/9 [00:54&lt;00:00,  5.16s/it]"
          }
        },
        "82ccb10cba0b4b1bb7c2445d551d47d2": {
          "model_module": "@jupyter-widgets/base",
          "model_name": "LayoutModel",
          "model_module_version": "1.2.0",
          "state": {
            "_model_module": "@jupyter-widgets/base",
            "_model_module_version": "1.2.0",
            "_model_name": "LayoutModel",
            "_view_count": null,
            "_view_module": "@jupyter-widgets/base",
            "_view_module_version": "1.2.0",
            "_view_name": "LayoutView",
            "align_content": null,
            "align_items": null,
            "align_self": null,
            "border": null,
            "bottom": null,
            "display": null,
            "flex": null,
            "flex_flow": null,
            "grid_area": null,
            "grid_auto_columns": null,
            "grid_auto_flow": null,
            "grid_auto_rows": null,
            "grid_column": null,
            "grid_gap": null,
            "grid_row": null,
            "grid_template_areas": null,
            "grid_template_columns": null,
            "grid_template_rows": null,
            "height": null,
            "justify_content": null,
            "justify_items": null,
            "left": null,
            "margin": null,
            "max_height": null,
            "max_width": null,
            "min_height": null,
            "min_width": null,
            "object_fit": null,
            "object_position": null,
            "order": null,
            "overflow": null,
            "overflow_x": null,
            "overflow_y": null,
            "padding": null,
            "right": null,
            "top": null,
            "visibility": null,
            "width": null
          }
        },
        "7659cb9edbcf417b823dc24080618899": {
          "model_module": "@jupyter-widgets/base",
          "model_name": "LayoutModel",
          "model_module_version": "1.2.0",
          "state": {
            "_model_module": "@jupyter-widgets/base",
            "_model_module_version": "1.2.0",
            "_model_name": "LayoutModel",
            "_view_count": null,
            "_view_module": "@jupyter-widgets/base",
            "_view_module_version": "1.2.0",
            "_view_name": "LayoutView",
            "align_content": null,
            "align_items": null,
            "align_self": null,
            "border": null,
            "bottom": null,
            "display": null,
            "flex": null,
            "flex_flow": null,
            "grid_area": null,
            "grid_auto_columns": null,
            "grid_auto_flow": null,
            "grid_auto_rows": null,
            "grid_column": null,
            "grid_gap": null,
            "grid_row": null,
            "grid_template_areas": null,
            "grid_template_columns": null,
            "grid_template_rows": null,
            "height": null,
            "justify_content": null,
            "justify_items": null,
            "left": null,
            "margin": null,
            "max_height": null,
            "max_width": null,
            "min_height": null,
            "min_width": null,
            "object_fit": null,
            "object_position": null,
            "order": null,
            "overflow": null,
            "overflow_x": null,
            "overflow_y": null,
            "padding": null,
            "right": null,
            "top": null,
            "visibility": null,
            "width": null
          }
        },
        "775f4c0ef3b54111b61d12b751acf3fa": {
          "model_module": "@jupyter-widgets/controls",
          "model_name": "DescriptionStyleModel",
          "model_module_version": "1.5.0",
          "state": {
            "_model_module": "@jupyter-widgets/controls",
            "_model_module_version": "1.5.0",
            "_model_name": "DescriptionStyleModel",
            "_view_count": null,
            "_view_module": "@jupyter-widgets/base",
            "_view_module_version": "1.2.0",
            "_view_name": "StyleView",
            "description_width": ""
          }
        },
        "ae834b99744d4a96b4d3a324d23a1a20": {
          "model_module": "@jupyter-widgets/base",
          "model_name": "LayoutModel",
          "model_module_version": "1.2.0",
          "state": {
            "_model_module": "@jupyter-widgets/base",
            "_model_module_version": "1.2.0",
            "_model_name": "LayoutModel",
            "_view_count": null,
            "_view_module": "@jupyter-widgets/base",
            "_view_module_version": "1.2.0",
            "_view_name": "LayoutView",
            "align_content": null,
            "align_items": null,
            "align_self": null,
            "border": null,
            "bottom": null,
            "display": null,
            "flex": null,
            "flex_flow": null,
            "grid_area": null,
            "grid_auto_columns": null,
            "grid_auto_flow": null,
            "grid_auto_rows": null,
            "grid_column": null,
            "grid_gap": null,
            "grid_row": null,
            "grid_template_areas": null,
            "grid_template_columns": null,
            "grid_template_rows": null,
            "height": null,
            "justify_content": null,
            "justify_items": null,
            "left": null,
            "margin": null,
            "max_height": null,
            "max_width": null,
            "min_height": null,
            "min_width": null,
            "object_fit": null,
            "object_position": null,
            "order": null,
            "overflow": null,
            "overflow_x": null,
            "overflow_y": null,
            "padding": null,
            "right": null,
            "top": null,
            "visibility": null,
            "width": null
          }
        },
        "aa9cec309be94dd98ea252947fd269b9": {
          "model_module": "@jupyter-widgets/controls",
          "model_name": "ProgressStyleModel",
          "model_module_version": "1.5.0",
          "state": {
            "_model_module": "@jupyter-widgets/controls",
            "_model_module_version": "1.5.0",
            "_model_name": "ProgressStyleModel",
            "_view_count": null,
            "_view_module": "@jupyter-widgets/base",
            "_view_module_version": "1.2.0",
            "_view_name": "StyleView",
            "bar_color": null,
            "description_width": ""
          }
        },
        "300d295fb7244aef954ee519f1ba0caa": {
          "model_module": "@jupyter-widgets/base",
          "model_name": "LayoutModel",
          "model_module_version": "1.2.0",
          "state": {
            "_model_module": "@jupyter-widgets/base",
            "_model_module_version": "1.2.0",
            "_model_name": "LayoutModel",
            "_view_count": null,
            "_view_module": "@jupyter-widgets/base",
            "_view_module_version": "1.2.0",
            "_view_name": "LayoutView",
            "align_content": null,
            "align_items": null,
            "align_self": null,
            "border": null,
            "bottom": null,
            "display": null,
            "flex": null,
            "flex_flow": null,
            "grid_area": null,
            "grid_auto_columns": null,
            "grid_auto_flow": null,
            "grid_auto_rows": null,
            "grid_column": null,
            "grid_gap": null,
            "grid_row": null,
            "grid_template_areas": null,
            "grid_template_columns": null,
            "grid_template_rows": null,
            "height": null,
            "justify_content": null,
            "justify_items": null,
            "left": null,
            "margin": null,
            "max_height": null,
            "max_width": null,
            "min_height": null,
            "min_width": null,
            "object_fit": null,
            "object_position": null,
            "order": null,
            "overflow": null,
            "overflow_x": null,
            "overflow_y": null,
            "padding": null,
            "right": null,
            "top": null,
            "visibility": null,
            "width": null
          }
        },
        "8a9e1fa734a04c9a8012eeeca6f16eda": {
          "model_module": "@jupyter-widgets/controls",
          "model_name": "DescriptionStyleModel",
          "model_module_version": "1.5.0",
          "state": {
            "_model_module": "@jupyter-widgets/controls",
            "_model_module_version": "1.5.0",
            "_model_name": "DescriptionStyleModel",
            "_view_count": null,
            "_view_module": "@jupyter-widgets/base",
            "_view_module_version": "1.2.0",
            "_view_name": "StyleView",
            "description_width": ""
          }
        }
      }
    }
  },
  "nbformat": 4,
  "nbformat_minor": 0
}